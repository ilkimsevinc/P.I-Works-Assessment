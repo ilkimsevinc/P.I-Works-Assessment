{
 "cells": [
  {
   "cell_type": "markdown",
   "id": "005b8d60",
   "metadata": {},
   "source": [
    "# QUESTION 1"
   ]
  },
  {
   "cell_type": "code",
   "execution_count": 1,
   "id": "b141d91c",
   "metadata": {},
   "outputs": [],
   "source": [
    "import csv\n",
    "import pandas as pd\n",
    "import numpy as np"
   ]
  },
  {
   "cell_type": "code",
   "execution_count": 2,
   "id": "30963810",
   "metadata": {},
   "outputs": [
    {
     "data": {
      "text/html": [
       "<div>\n",
       "<style scoped>\n",
       "    .dataframe tbody tr th:only-of-type {\n",
       "        vertical-align: middle;\n",
       "    }\n",
       "\n",
       "    .dataframe tbody tr th {\n",
       "        vertical-align: top;\n",
       "    }\n",
       "\n",
       "    .dataframe thead th {\n",
       "        text-align: right;\n",
       "    }\n",
       "</style>\n",
       "<table border=\"1\" class=\"dataframe\">\n",
       "  <thead>\n",
       "    <tr style=\"text-align: right;\">\n",
       "      <th></th>\n",
       "      <th>country</th>\n",
       "      <th>date</th>\n",
       "      <th>daily_vaccinations</th>\n",
       "      <th>vaccines</th>\n",
       "    </tr>\n",
       "  </thead>\n",
       "  <tbody>\n",
       "    <tr>\n",
       "      <th>0</th>\n",
       "      <td>Argentina</td>\n",
       "      <td>12/29/2020</td>\n",
       "      <td>NaN</td>\n",
       "      <td>Sputnik V</td>\n",
       "    </tr>\n",
       "    <tr>\n",
       "      <th>1</th>\n",
       "      <td>Argentina</td>\n",
       "      <td>12/30/2020</td>\n",
       "      <td>15656.0</td>\n",
       "      <td>Sputnik V</td>\n",
       "    </tr>\n",
       "    <tr>\n",
       "      <th>2</th>\n",
       "      <td>Argentina</td>\n",
       "      <td>12/31/2020</td>\n",
       "      <td>15656.0</td>\n",
       "      <td>Sputnik V</td>\n",
       "    </tr>\n",
       "    <tr>\n",
       "      <th>3</th>\n",
       "      <td>Argentina</td>\n",
       "      <td>1/1/2021</td>\n",
       "      <td>11070.0</td>\n",
       "      <td>Sputnik V</td>\n",
       "    </tr>\n",
       "    <tr>\n",
       "      <th>4</th>\n",
       "      <td>Argentina</td>\n",
       "      <td>1/2/2021</td>\n",
       "      <td>8776.0</td>\n",
       "      <td>Sputnik V</td>\n",
       "    </tr>\n",
       "    <tr>\n",
       "      <th>...</th>\n",
       "      <td>...</td>\n",
       "      <td>...</td>\n",
       "      <td>...</td>\n",
       "      <td>...</td>\n",
       "    </tr>\n",
       "    <tr>\n",
       "      <th>1497</th>\n",
       "      <td>Wales</td>\n",
       "      <td>1/20/2021</td>\n",
       "      <td>11105.0</td>\n",
       "      <td>Oxford/AstraZeneca, Pfizer/BioNTech</td>\n",
       "    </tr>\n",
       "    <tr>\n",
       "      <th>1498</th>\n",
       "      <td>Wales</td>\n",
       "      <td>1/21/2021</td>\n",
       "      <td>12318.0</td>\n",
       "      <td>Oxford/AstraZeneca, Pfizer/BioNTech</td>\n",
       "    </tr>\n",
       "    <tr>\n",
       "      <th>1499</th>\n",
       "      <td>Wales</td>\n",
       "      <td>1/22/2021</td>\n",
       "      <td>15148.0</td>\n",
       "      <td>Oxford/AstraZeneca, Pfizer/BioNTech</td>\n",
       "    </tr>\n",
       "    <tr>\n",
       "      <th>1500</th>\n",
       "      <td>Wales</td>\n",
       "      <td>1/23/2021</td>\n",
       "      <td>17371.0</td>\n",
       "      <td>Oxford/AstraZeneca, Pfizer/BioNTech</td>\n",
       "    </tr>\n",
       "    <tr>\n",
       "      <th>1501</th>\n",
       "      <td>Wales</td>\n",
       "      <td>1/24/2021</td>\n",
       "      <td>17063.0</td>\n",
       "      <td>Oxford/AstraZeneca, Pfizer/BioNTech</td>\n",
       "    </tr>\n",
       "  </tbody>\n",
       "</table>\n",
       "<p>1502 rows × 4 columns</p>\n",
       "</div>"
      ],
      "text/plain": [
       "        country        date  daily_vaccinations  \\\n",
       "0     Argentina  12/29/2020                 NaN   \n",
       "1     Argentina  12/30/2020             15656.0   \n",
       "2     Argentina  12/31/2020             15656.0   \n",
       "3     Argentina    1/1/2021             11070.0   \n",
       "4     Argentina    1/2/2021              8776.0   \n",
       "...         ...         ...                 ...   \n",
       "1497      Wales   1/20/2021             11105.0   \n",
       "1498      Wales   1/21/2021             12318.0   \n",
       "1499      Wales   1/22/2021             15148.0   \n",
       "1500      Wales   1/23/2021             17371.0   \n",
       "1501      Wales   1/24/2021             17063.0   \n",
       "\n",
       "                                 vaccines  \n",
       "0                               Sputnik V  \n",
       "1                               Sputnik V  \n",
       "2                               Sputnik V  \n",
       "3                               Sputnik V  \n",
       "4                               Sputnik V  \n",
       "...                                   ...  \n",
       "1497  Oxford/AstraZeneca, Pfizer/BioNTech  \n",
       "1498  Oxford/AstraZeneca, Pfizer/BioNTech  \n",
       "1499  Oxford/AstraZeneca, Pfizer/BioNTech  \n",
       "1500  Oxford/AstraZeneca, Pfizer/BioNTech  \n",
       "1501  Oxford/AstraZeneca, Pfizer/BioNTech  \n",
       "\n",
       "[1502 rows x 4 columns]"
      ]
     },
     "execution_count": 2,
     "metadata": {},
     "output_type": "execute_result"
    }
   ],
   "source": [
    "data = pd.read_csv('D:\\\\country_vaccination_stats.csv')\n",
    "data"
   ]
  },
  {
   "cell_type": "code",
   "execution_count": 3,
   "id": "6ae5e8d4",
   "metadata": {},
   "outputs": [
    {
     "data": {
      "text/html": [
       "<div>\n",
       "<style scoped>\n",
       "    .dataframe tbody tr th:only-of-type {\n",
       "        vertical-align: middle;\n",
       "    }\n",
       "\n",
       "    .dataframe tbody tr th {\n",
       "        vertical-align: top;\n",
       "    }\n",
       "\n",
       "    .dataframe thead th {\n",
       "        text-align: right;\n",
       "    }\n",
       "</style>\n",
       "<table border=\"1\" class=\"dataframe\">\n",
       "  <thead>\n",
       "    <tr style=\"text-align: right;\">\n",
       "      <th></th>\n",
       "      <th>country</th>\n",
       "      <th>date</th>\n",
       "      <th>daily_vaccinations</th>\n",
       "      <th>vaccines</th>\n",
       "    </tr>\n",
       "  </thead>\n",
       "  <tbody>\n",
       "    <tr>\n",
       "      <th>452</th>\n",
       "      <td>Finland</td>\n",
       "      <td>1/1/2021</td>\n",
       "      <td>459.0</td>\n",
       "      <td>Pfizer/BioNTech</td>\n",
       "    </tr>\n",
       "    <tr>\n",
       "      <th>559</th>\n",
       "      <td>Greece</td>\n",
       "      <td>1/13/2021</td>\n",
       "      <td>6308.0</td>\n",
       "      <td>Pfizer/BioNTech</td>\n",
       "    </tr>\n",
       "    <tr>\n",
       "      <th>1418</th>\n",
       "      <td>United Kingdom</td>\n",
       "      <td>1/21/2021</td>\n",
       "      <td>310246.0</td>\n",
       "      <td>Oxford/AstraZeneca, Pfizer/BioNTech</td>\n",
       "    </tr>\n",
       "    <tr>\n",
       "      <th>188</th>\n",
       "      <td>Chile</td>\n",
       "      <td>12/28/2020</td>\n",
       "      <td>2069.0</td>\n",
       "      <td>Pfizer/BioNTech</td>\n",
       "    </tr>\n",
       "    <tr>\n",
       "      <th>111</th>\n",
       "      <td>Brazil</td>\n",
       "      <td>1/24/2021</td>\n",
       "      <td>86373.0</td>\n",
       "      <td>Sinovac</td>\n",
       "    </tr>\n",
       "    <tr>\n",
       "      <th>1148</th>\n",
       "      <td>Saudi Arabia</td>\n",
       "      <td>1/16/2021</td>\n",
       "      <td>16843.0</td>\n",
       "      <td>Pfizer/BioNTech</td>\n",
       "    </tr>\n",
       "    <tr>\n",
       "      <th>654</th>\n",
       "      <td>Ireland</td>\n",
       "      <td>1/2/2021</td>\n",
       "      <td>550.0</td>\n",
       "      <td>Pfizer/BioNTech</td>\n",
       "    </tr>\n",
       "    <tr>\n",
       "      <th>148</th>\n",
       "      <td>Canada</td>\n",
       "      <td>12/21/2020</td>\n",
       "      <td>2938.0</td>\n",
       "      <td>Moderna, Pfizer/BioNTech</td>\n",
       "    </tr>\n",
       "    <tr>\n",
       "      <th>39</th>\n",
       "      <td>Austria</td>\n",
       "      <td>1/16/2021</td>\n",
       "      <td>7953.0</td>\n",
       "      <td>Pfizer/BioNTech</td>\n",
       "    </tr>\n",
       "    <tr>\n",
       "      <th>868</th>\n",
       "      <td>Mexico</td>\n",
       "      <td>12/26/2020</td>\n",
       "      <td>1300.0</td>\n",
       "      <td>Pfizer/BioNTech</td>\n",
       "    </tr>\n",
       "  </tbody>\n",
       "</table>\n",
       "</div>"
      ],
      "text/plain": [
       "             country        date  daily_vaccinations  \\\n",
       "452          Finland    1/1/2021               459.0   \n",
       "559           Greece   1/13/2021              6308.0   \n",
       "1418  United Kingdom   1/21/2021            310246.0   \n",
       "188            Chile  12/28/2020              2069.0   \n",
       "111           Brazil   1/24/2021             86373.0   \n",
       "1148    Saudi Arabia   1/16/2021             16843.0   \n",
       "654          Ireland    1/2/2021               550.0   \n",
       "148           Canada  12/21/2020              2938.0   \n",
       "39           Austria   1/16/2021              7953.0   \n",
       "868           Mexico  12/26/2020              1300.0   \n",
       "\n",
       "                                 vaccines  \n",
       "452                       Pfizer/BioNTech  \n",
       "559                       Pfizer/BioNTech  \n",
       "1418  Oxford/AstraZeneca, Pfizer/BioNTech  \n",
       "188                       Pfizer/BioNTech  \n",
       "111                               Sinovac  \n",
       "1148                      Pfizer/BioNTech  \n",
       "654                       Pfizer/BioNTech  \n",
       "148              Moderna, Pfizer/BioNTech  \n",
       "39                        Pfizer/BioNTech  \n",
       "868                       Pfizer/BioNTech  "
      ]
     },
     "execution_count": 3,
     "metadata": {},
     "output_type": "execute_result"
    }
   ],
   "source": [
    "data.sample(10)"
   ]
  },
  {
   "cell_type": "code",
   "execution_count": 4,
   "id": "1606c05a",
   "metadata": {},
   "outputs": [
    {
     "data": {
      "text/plain": [
       "country               False\n",
       "date                  False\n",
       "daily_vaccinations     True\n",
       "vaccines              False\n",
       "dtype: bool"
      ]
     },
     "execution_count": 4,
     "metadata": {},
     "output_type": "execute_result"
    }
   ],
   "source": [
    "data.isnull().any()"
   ]
  },
  {
   "cell_type": "code",
   "execution_count": 5,
   "id": "1f71fa52",
   "metadata": {},
   "outputs": [
    {
     "data": {
      "text/plain": [
       "0       Argentina\n",
       "1       Argentina\n",
       "2       Argentina\n",
       "3       Argentina\n",
       "4       Argentina\n",
       "          ...    \n",
       "1497        Wales\n",
       "1498        Wales\n",
       "1499        Wales\n",
       "1500        Wales\n",
       "1501        Wales\n",
       "Name: country, Length: 1502, dtype: object"
      ]
     },
     "execution_count": 5,
     "metadata": {},
     "output_type": "execute_result"
    }
   ],
   "source": [
    "data['country']"
   ]
  },
  {
   "cell_type": "code",
   "execution_count": 6,
   "id": "28740f03",
   "metadata": {},
   "outputs": [
    {
     "data": {
      "text/plain": [
       "array(['Argentina', 'Austria', 'Bahrain', 'Belgium', 'Brazil', 'Bulgaria',\n",
       "       'Canada', 'Chile', 'China', 'Costa Rica', 'Croatia', 'Cyprus',\n",
       "       'Czechia', 'Denmark', 'Ecuador', 'England', 'Estonia', 'Finland',\n",
       "       'France', 'Germany', 'Gibraltar', 'Greece', 'Hungary', 'Iceland',\n",
       "       'India', 'Indonesia', 'Ireland', 'Isle of Man', 'Israel', 'Italy',\n",
       "       'Kuwait', 'Latvia', 'Lithuania', 'Luxembourg', 'Malta', 'Mexico',\n",
       "       'Netherlands', 'Northern Ireland', 'Norway', 'Oman', 'Panama',\n",
       "       'Poland', 'Portugal', 'Romania', 'Russia', 'Saudi Arabia',\n",
       "       'Scotland', 'Serbia', 'Seychelles', 'Singapore', 'Slovakia',\n",
       "       'Slovenia', 'Spain', 'Sweden', 'Switzerland', 'Turkey',\n",
       "       'United Arab Emirates', 'United Kingdom', 'United States', 'Wales'],\n",
       "      dtype=object)"
      ]
     },
     "execution_count": 6,
     "metadata": {},
     "output_type": "execute_result"
    }
   ],
   "source": [
    "data['country'].unique()"
   ]
  },
  {
   "cell_type": "code",
   "execution_count": 7,
   "id": "c6152c58",
   "metadata": {},
   "outputs": [],
   "source": [
    "countries = data['country'].unique()"
   ]
  },
  {
   "cell_type": "code",
   "execution_count": 18,
   "id": "8735274a",
   "metadata": {},
   "outputs": [
    {
     "name": "stdout",
     "output_type": "stream",
     "text": [
      "Argentina min vaccination:  6483.0\n",
      "Austria min vaccination:  3368.0\n",
      "Bahrain min vaccination:  943.0\n",
      "Belgium min vaccination:  1.0\n",
      "Brazil min vaccination:  112.0\n",
      "Bulgaria min vaccination:  472.0\n",
      "Canada min vaccination:  866.0\n",
      "Chile min vaccination:  51.0\n",
      "China min vaccination:  187500.0\n",
      "Costa Rica min vaccination:  240.0\n",
      "Croatia min vaccination:  989.0\n",
      "Cyprus min vaccination:  534.0\n",
      "Czechia min vaccination:  1822.0\n",
      "Denmark min vaccination:  1994.0\n",
      "Ecuador min vaccination:  108.0\n",
      "England min vaccination:  37625.0\n",
      "Estonia min vaccination:  309.0\n",
      "Finland min vaccination:  459.0\n",
      "France min vaccination:  5000.0\n",
      "Germany min vaccination:  19721.0\n",
      "Gibraltar min vaccination:  520.0\n",
      "Greece min vaccination:  549.0\n",
      "Hungary min vaccination:  1339.0\n",
      "Iceland min vaccination:  63.0\n",
      "India min vaccination:  112150.0\n",
      "Indonesia min vaccination:  11823.0\n",
      "Ireland min vaccination:  550.0\n",
      "Isle of Man min vaccination:  90.0\n",
      "Israel min vaccination:  6887.0\n",
      "Italy min vaccination:  926.0\n",
      "Kuwait min vaccination:  0.0\n",
      "Latvia min vaccination:  338.0\n",
      "Lithuania min vaccination:  311.0\n",
      "Luxembourg min vaccination:  62.0\n",
      "Malta min vaccination:  259.0\n",
      "Mexico min vaccination:  1300.0\n",
      "Netherlands min vaccination:  4000.0\n",
      "Northern Ireland min vaccination:  1563.0\n",
      "Norway min vaccination:  224.0\n",
      "Oman min vaccination:  817.0\n",
      "Panama min vaccination:  6.0\n",
      "Poland min vaccination:  4300.0\n",
      "Portugal min vaccination:  2791.0\n",
      "Romania min vaccination:  712.0\n",
      "Russia min vaccination:  3357.0\n",
      "Saudi Arabia min vaccination:  14153.0\n",
      "Scotland min vaccination:  3047.0\n",
      "Serbia min vaccination:  1150.0\n",
      "Seychelles min vaccination:  500.0\n",
      "Singapore min vaccination:  2800.0\n",
      "Slovakia min vaccination:  425.0\n",
      "Slovenia min vaccination:  1270.0\n",
      "Spain min vaccination:  41496.0\n",
      "Sweden min vaccination:  3859.0\n",
      "Switzerland min vaccination:  3000.0\n",
      "Turkey min vaccination:  67192.0\n",
      "United Arab Emirates min vaccination:  30698.0\n",
      "United Kingdom min vaccination:  46423.0\n",
      "United States min vaccination:  57909.0\n",
      "Wales min vaccination:  1763.0\n"
     ]
    }
   ],
   "source": [
    "for c in countries:\n",
    "    min_vac = data[data['country']==c].daily_vaccinations.min()\n",
    "    if np.isnan(min_vac):\n",
    "        print(c, \" no vaccination..\")\n",
    "        values = {'daily_vaccinations': 0}\n",
    "    else:\n",
    "        print(c, \"min vaccination: \", min_vac)\n",
    "        values = {'daily_vaccinations': min_vac}\n",
    "    data[data['country'] == c] = data[data['country'] == c].fillna(value=values)"
   ]
  },
  {
   "cell_type": "code",
   "execution_count": 9,
   "id": "57c12c61",
   "metadata": {},
   "outputs": [
    {
     "data": {
      "text/plain": [
       "country               False\n",
       "date                  False\n",
       "daily_vaccinations    False\n",
       "vaccines              False\n",
       "dtype: bool"
      ]
     },
     "execution_count": 9,
     "metadata": {},
     "output_type": "execute_result"
    }
   ],
   "source": [
    "data.isnull().any() "
   ]
  },
  {
   "cell_type": "markdown",
   "id": "cd13844c",
   "metadata": {},
   "source": [
    "# QUESTION 2"
   ]
  },
  {
   "cell_type": "code",
   "execution_count": null,
   "id": "25427854",
   "metadata": {},
   "outputs": [],
   "source": []
  },
  {
   "cell_type": "code",
   "execution_count": null,
   "id": "e858bd65",
   "metadata": {},
   "outputs": [],
   "source": []
  },
  {
   "cell_type": "markdown",
   "id": "d8c75f5a",
   "metadata": {},
   "source": [
    "# QUESTION 3"
   ]
  },
  {
   "cell_type": "code",
   "execution_count": 19,
   "id": "16717c1c",
   "metadata": {},
   "outputs": [
    {
     "data": {
      "text/plain": [
       "8         8173.0\n",
       "29        3368.0\n",
       "62        1594.0\n",
       "86         736.0\n",
       "121        472.0\n",
       "164      14887.0\n",
       "197        272.0\n",
       "239     455357.0\n",
       "267        763.0\n",
       "287       1334.0\n",
       "307        534.0\n",
       "334       2439.0\n",
       "364       8525.0\n",
       "403      98984.0\n",
       "431        589.0\n",
       "457        839.0\n",
       "479       8500.0\n",
       "509      42015.0\n",
       "552       2680.0\n",
       "581       3959.0\n",
       "607         63.0\n",
       "658       1624.0\n",
       "700     114634.0\n",
       "730      45417.0\n",
       "760        338.0\n",
       "792        592.0\n",
       "819         62.0\n",
       "847        304.0\n",
       "879       4027.0\n",
       "899       4000.0\n",
       "940       3954.0\n",
       "969       1772.0\n",
       "997       1280.0\n",
       "1031     17723.0\n",
       "1060      4416.0\n",
       "1088      7555.0\n",
       "1130     39532.0\n",
       "1138     14153.0\n",
       "1174      4858.0\n",
       "1240      3309.0\n",
       "1259      2110.0\n",
       "1280     45248.0\n",
       "1310      5165.0\n",
       "1336      3000.0\n",
       "1366     30698.0\n",
       "1403    111155.0\n",
       "1439    358887.0\n",
       "1483      3359.0\n",
       "Name: daily_vaccinations, dtype: float64"
      ]
     },
     "execution_count": 19,
     "metadata": {},
     "output_type": "execute_result"
    }
   ],
   "source": [
    "data[data['date']==\"1/6/2021\"].daily_vaccinations\n"
   ]
  },
  {
   "cell_type": "code",
   "execution_count": 16,
   "id": "568cc1c9",
   "metadata": {},
   "outputs": [
    {
     "name": "stdout",
     "output_type": "stream",
     "text": [
      "Total Vac:  1485255.0\n"
     ]
    }
   ],
   "source": [
    "print(\"Total Vac: \",data[data['date']==\"1/6/2021\"].daily_vaccinations.sum())"
   ]
  },
  {
   "cell_type": "code",
   "execution_count": null,
   "id": "4c9f0c08",
   "metadata": {},
   "outputs": [],
   "source": []
  }
 ],
 "metadata": {
  "kernelspec": {
   "display_name": "Python 3 (ipykernel)",
   "language": "python",
   "name": "python3"
  },
  "language_info": {
   "codemirror_mode": {
    "name": "ipython",
    "version": 3
   },
   "file_extension": ".py",
   "mimetype": "text/x-python",
   "name": "python",
   "nbconvert_exporter": "python",
   "pygments_lexer": "ipython3",
   "version": "3.9.13"
  }
 },
 "nbformat": 4,
 "nbformat_minor": 5
}
