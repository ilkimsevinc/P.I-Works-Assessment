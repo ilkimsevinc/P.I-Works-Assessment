{
 "cells": [
  {
   "cell_type": "code",
   "execution_count": 1,
   "id": "048f3c32",
   "metadata": {},
   "outputs": [],
   "source": [
    "import re"
   ]
  },
  {
   "cell_type": "code",
   "execution_count": 7,
   "id": "d666617c",
   "metadata": {},
   "outputs": [
    {
     "name": "stdout",
     "output_type": "stream",
     "text": [
      "xcd32112.smart_meter.com\n"
     ]
    }
   ],
   "source": [
    "device_type = \"AXO145\"\n",
    "stats_access_link = \"<url>https://xcd32112.smart_meter.com</url>\"\n",
    "\n",
    "pattern = r'<url>https:\\/\\/([a-zA-Z0-9_\\.]+)<\\/url>'\n",
    "match = re.search(pattern, stats_access_link)\n",
    "\n",
    "if match:\n",
    "    domain = match.group(1)\n",
    "    print(domain)\n",
    "else:\n",
    "    print(\"Domain not found\")"
   ]
  },
  {
   "cell_type": "code",
   "execution_count": null,
   "id": "2d21d2b1",
   "metadata": {},
   "outputs": [],
   "source": []
  }
 ],
 "metadata": {
  "kernelspec": {
   "display_name": "Python 3 (ipykernel)",
   "language": "python",
   "name": "python3"
  },
  "language_info": {
   "codemirror_mode": {
    "name": "ipython",
    "version": 3
   },
   "file_extension": ".py",
   "mimetype": "text/x-python",
   "name": "python",
   "nbconvert_exporter": "python",
   "pygments_lexer": "ipython3",
   "version": "3.9.13"
  }
 },
 "nbformat": 4,
 "nbformat_minor": 5
}
